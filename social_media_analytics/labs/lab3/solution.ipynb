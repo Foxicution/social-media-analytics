{
 "cells": [
  {
   "cell_type": "markdown",
   "id": "51f8e2cb",
   "metadata": {
    "jupyter": {
     "source_hidden": false
    }
   },
   "source": [
    "# Graph visualizaiton\n",
    "## Step 1: Graph creation\n",
    "Simillarly to lab 1, I create the grpah from the chosen dataset and clean it."
   ]
  },
  {
   "cell_type": "code",
   "execution_count": 1,
   "id": "47185a9b",
   "metadata": {
    "jupyter": {
     "source_hidden": false
    }
   },
   "outputs": [],
   "source": [
    "import pandas as pd\n",
    "from social_media_analytics.configs import DATA_DIR\n",
    "import networkx as nx\n",
    "\n",
    "df = pd.read_csv(DATA_DIR / \"github-organizations.csv\")\n",
    "df = df[df[\"Organisation\"] != \"None\"]\n",
    "df = df[df[\"member\"] != \"None\"].dropna()\n",
    "G = nx.Graph()\n",
    "\n",
    "for index, row in df.iterrows():\n",
    "    G.add_edge(row[\"Organisation\"], row[\"member\"])"
   ]
  },
  {
   "cell_type": "markdown",
   "id": "102b9e4e",
   "metadata": {
    "jupyter": {
     "source_hidden": false
    }
   },
   "source": [
    "Because the grpah is so large I create a custom script to let the physics simulation run and save the positions at the end.\n",
    "\n",
    "Usually graphs of this size have specialized software to display them using better harware optimization, but for simplicity sake, a simple pyvis visualization was used and more time was given for the physics simulation to stabilize."
   ]
  },
  {
   "cell_type": "code",
   "execution_count": 2,
   "id": "be324bb9",
   "metadata": {
    "jupyter": {
     "source_hidden": false
    }
   },
   "outputs": [
    {
     "name": "stdout",
     "output_type": "stream",
     "text": [
      "Warning: When  cdn_resources is 'local' jupyter notebook has issues displaying graphics on chrome/safari. Use cdn_resources='in_line' or cdn_resources='remote' if you have issues viewing graphics in a notebook.\n",
      "Warning: When  cdn_resources is 'local' jupyter notebook has issues displaying graphics on chrome/safari. Use cdn_resources='in_line' or cdn_resources='remote' if you have issues viewing graphics in a notebook.\n"
     ]
    }
   ],
   "source": [
    "from pyvis.network import Network\n",
    "\n",
    "# Convert node IDs to strings\n",
    "G_str = nx.relabel_nodes(G, lambda x: str(x))\n",
    "nt = Network(notebook=True)\n",
    "nt.from_nx(G_str)\n",
    "\n",
    "nt = Network(notebook=True)\n",
    "nt.barnes_hut()\n",
    "nt.from_nx(G_str)\n",
    "# Save the graph to an HTML file\n",
    "html_path = \"graph.html\"\n",
    "nt.save_graph(html_path)\n",
    "\n",
    "# Read the HTML content\n",
    "with open(html_path, 'r') as file:\n",
    "    content = file.read()\n",
    "\n",
    "# Your custom JavaScript\n",
    "js_code = \"\"\"\n",
    "<script>\n",
    "function extractPositions(){\n",
    "    var positions = network.getPositions();\n",
    "    console.log(positions);  // This will print positions to the browser's console\n",
    "}\n",
    "network.once(\"stabilizationIterationsDone\", function() {\n",
    "    extractPositions();\n",
    "});\n",
    "</script>\n",
    "\"\"\"\n",
    "\n",
    "# Insert the JavaScript before the closing body tag\n",
    "content = content.replace(\"</body>\", js_code + \"</body>\")\n",
    "\n",
    "# Write the modified content back to the HTML file\n",
    "with open(html_path, 'w') as file:\n",
    "    file.write(content)"
   ]
  },
  {
   "cell_type": "markdown",
   "id": "a1e5ba42",
   "metadata": {},
   "source": [
    "The network is then reconstructed, giving it the positions. Some coloring and sizing is also used to make the visualizaiton nicer."
   ]
  },
  {
   "cell_type": "code",
   "execution_count": 8,
   "id": "9b1d735a",
   "metadata": {},
   "outputs": [
    {
     "name": "stdout",
     "output_type": "stream",
     "text": [
      "Warning: When  cdn_resources is 'local' jupyter notebook has issues displaying graphics on chrome/safari. Use cdn_resources='in_line' or cdn_resources='remote' if you have issues viewing graphics in a notebook.\n",
      "network.html\n"
     ]
    },
    {
     "data": {
      "text/html": [
       "\n",
       "        <iframe\n",
       "            width=\"100%\"\n",
       "            height=\"1000px\"\n",
       "            src=\"network.html\"\n",
       "            frameborder=\"0\"\n",
       "            allowfullscreen\n",
       "            \n",
       "        ></iframe>\n",
       "        "
      ],
      "text/plain": [
       "<IPython.lib.display.IFrame at 0x7fb18a71a5f0>"
      ]
     },
     "execution_count": 8,
     "metadata": {},
     "output_type": "execute_result"
    }
   ],
   "source": [
    "from pyvis.network import Network\n",
    "import json\n",
    "import math\n",
    "\n",
    "org_nodes = df[\"Organisation\"].unique().tolist()\n",
    "mem_nodes = df[\"member\"].unique().tolist()\n",
    "\n",
    "# Get degrees for sizing\n",
    "degrees = dict(G.degree())\n",
    "\n",
    "# Initialize the network\n",
    "net = Network(notebook=True, width='100%', height='1000px')\n",
    "\n",
    "# Load positions\n",
    "with open('graph_positions_final.json', 'r') as file:\n",
    "    positions = json.load(file)\n",
    "\n",
    "# Add nodes with specific colors and sizes\n",
    "for node, pos in positions.items():\n",
    "    color = \"blue\" if node in org_nodes else \"green\"\n",
    "    \n",
    "    # Apply a function to adjust sizes, especially for nodes with lower degrees\n",
    "    size = 10 + 30 * math.log(degrees[node] + 1)  # Adjust the base size and scaling factor as needed\n",
    "    \n",
    "    net.add_node(node, x=pos['x'], y=pos['y'], color=color, size=size, title=node)  # title is displayed on hover\n",
    "\n",
    "# Add edges\n",
    "for edge in G.edges():\n",
    "    net.add_edge(*edge, color=\"rgba(128, 128, 128, 0.5)\")  # gray and semi-transparent\n",
    "\n",
    "# Disable physics and adjust some aesthetics\n",
    "net.toggle_physics(False)\n",
    "net.set_edge_smooth('dynamic')\n",
    "net.show('network.html')"
   ]
  },
  {
   "cell_type": "code",
   "execution_count": null,
   "id": "4ba908a8",
   "metadata": {
    "jupyter": {
     "source_hidden": false
    }
   },
   "outputs": [],
   "source": [
    "\n"
   ]
  }
 ],
 "metadata": {
  "kernelspec": {
   "display_name": "Python 3 (ipykernel)",
   "language": "python",
   "name": "python3"
  },
  "language_info": {
   "codemirror_mode": {
    "name": "ipython",
    "version": 3
   },
   "file_extension": ".py",
   "mimetype": "text/x-python",
   "name": "python",
   "nbconvert_exporter": "python",
   "pygments_lexer": "ipython3",
   "version": "3.10.12"
  },
  "widgets": {
   "application/vnd.jupyter.widget-state+json": {
    "state": {},
    "version_major": 2,
    "version_minor": 0
   }
  }
 },
 "nbformat": 4,
 "nbformat_minor": 5
}
