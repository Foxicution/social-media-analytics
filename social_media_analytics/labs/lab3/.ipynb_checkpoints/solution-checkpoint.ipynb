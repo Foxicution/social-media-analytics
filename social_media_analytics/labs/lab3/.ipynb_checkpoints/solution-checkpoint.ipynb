{
 "cells": [
  {
   "cell_type": "markdown",
   "id": "51f8e2cb",
   "metadata": {
    "jupyter": {
     "source_hidden": false
    }
   },
   "source": [
    "# Graph visualizaiton\n",
    "## Step 1: Graph creation\n",
    "Simillarly to lab 1, I create the grpah from the chosen dataset and clean it."
   ]
  },
  {
   "cell_type": "code",
   "execution_count": 1,
   "id": "47185a9b",
   "metadata": {
    "jupyter": {
     "source_hidden": false
    }
   },
   "outputs": [],
   "source": [
    "import pandas as pd\n",
    "from social_media_analytics.configs import DATA_DIR\n",
    "import networkx as nx\n",
    "\n",
    "df = pd.read_csv(DATA_DIR / \"github-organizations.csv\")\n",
    "df = df[df[\"Organisation\"] != \"None\"]\n",
    "df = df[df[\"member\"] != \"None\"].dropna()\n",
    "G = nx.Graph()\n",
    "\n",
    "for index, row in df.iterrows():\n",
    "    G.add_edge(row[\"Organisation\"], row[\"member\"])"
   ]
  },
  {
   "cell_type": "markdown",
   "id": "102b9e4e",
   "metadata": {
    "jupyter": {
     "source_hidden": false
    }
   },
   "source": [
    "Because the grpah is so large I create a custom script to let the physics simulation run and save the positions at the end.\n",
    "\n",
    "Usually graphs of this size have specialized software to display them using better harware optimization, but for simplicity sake, a simple pyvis visualization was used and more time was given for the physics simulation to stabilize."
   ]
  },
  {
   "cell_type": "code",
   "execution_count": 2,
   "id": "be324bb9",
   "metadata": {
    "jupyter": {
     "source_hidden": false
    }
   },
   "outputs": [
    {
     "name": "stdout",
     "output_type": "stream",
     "text": [
      "Warning: When  cdn_resources is 'local' jupyter notebook has issues displaying graphics on chrome/safari. Use cdn_resources='in_line' or cdn_resources='remote' if you have issues viewing graphics in a notebook.\n",
      "Warning: When  cdn_resources is 'local' jupyter notebook has issues displaying graphics on chrome/safari. Use cdn_resources='in_line' or cdn_resources='remote' if you have issues viewing graphics in a notebook.\n"
     ]
    }
   ],
   "source": [
    "from pyvis.network import Network\n",
    "\n",
    "# Convert node IDs to strings\n",
    "G_str = nx.relabel_nodes(G, lambda x: str(x))\n",
    "nt = Network(notebook=True)\n",
    "nt.from_nx(G_str)\n",
    "\n",
    "nt = Network(notebook=True)\n",
    "nt.barnes_hut()\n",
    "nt.from_nx(G_str)\n",
    "# Save the graph to an HTML file\n",
    "html_path = \"graph.html\"\n",
    "nt.save_graph(html_path)\n",
    "\n",
    "# Read the HTML content\n",
    "with open(html_path, 'r') as file:\n",
    "    content = file.read()\n",
    "\n",
    "# Your custom JavaScript\n",
    "js_code = \"\"\"\n",
    "<script>\n",
    "function extractPositions(){\n",
    "    var positions = network.getPositions();\n",
    "    console.log(positions);  // This will print positions to the browser's console\n",
    "}\n",
    "network.once(\"stabilizationIterationsDone\", function() {\n",
    "    extractPositions();\n",
    "});\n",
    "</script>\n",
    "\"\"\"\n",
    "\n",
    "# Insert the JavaScript before the closing body tag\n",
    "content = content.replace(\"</body>\", js_code + \"</body>\")\n",
    "\n",
    "# Write the modified content back to the HTML file\n",
    "with open(html_path, 'w') as file:\n",
    "    file.write(content)"
   ]
  },
  {
   "cell_type": "markdown",
   "id": "a1e5ba42",
   "metadata": {},
   "source": [
    "The network is then reconstructed, giving it the positions. Some coloring and sizing is also used to make the visualizaiton nicer."
   ]
  },
  {
   "cell_type": "code",
   "execution_count": 6,
   "id": "9b1d735a",
   "metadata": {},
   "outputs": [
    {
     "name": "stdout",
     "output_type": "stream",
     "text": [
      "Warning: When  cdn_resources is 'local' jupyter notebook has issues displaying graphics on chrome/safari. Use cdn_resources='in_line' or cdn_resources='remote' if you have issues viewing graphics in a notebook.\n"
     ]
    },
    {
     "ename": "FileNotFoundError",
     "evalue": "[Errno 2] No such file or directory: 'path_to_your_positions.json'",
     "output_type": "error",
     "traceback": [
      "\u001b[0;31m---------------------------------------------------------------------------\u001b[0m",
      "\u001b[0;31mFileNotFoundError\u001b[0m                         Traceback (most recent call last)",
      "Cell \u001b[0;32mIn[6], line 14\u001b[0m\n\u001b[1;32m     11\u001b[0m net \u001b[38;5;241m=\u001b[39m Network(notebook\u001b[38;5;241m=\u001b[39m\u001b[38;5;28;01mTrue\u001b[39;00m)\n\u001b[1;32m     13\u001b[0m \u001b[38;5;66;03m# Load positions\u001b[39;00m\n\u001b[0;32m---> 14\u001b[0m \u001b[38;5;28;01mwith\u001b[39;00m \u001b[38;5;28;43mopen\u001b[39;49m\u001b[43m(\u001b[49m\u001b[38;5;124;43m'\u001b[39;49m\u001b[38;5;124;43mpath_to_your_positions.json\u001b[39;49m\u001b[38;5;124;43m'\u001b[39;49m\u001b[43m,\u001b[49m\u001b[43m \u001b[49m\u001b[38;5;124;43m'\u001b[39;49m\u001b[38;5;124;43mr\u001b[39;49m\u001b[38;5;124;43m'\u001b[39;49m\u001b[43m)\u001b[49m \u001b[38;5;28;01mas\u001b[39;00m file:\n\u001b[1;32m     15\u001b[0m     positions \u001b[38;5;241m=\u001b[39m json\u001b[38;5;241m.\u001b[39mload(file)\n\u001b[1;32m     17\u001b[0m \u001b[38;5;66;03m# Add nodes with specific colors and sizes\u001b[39;00m\n",
      "File \u001b[0;32m~/projects/general/social-media-analytics/.venv/lib/python3.10/site-packages/IPython/core/interactiveshell.py:286\u001b[0m, in \u001b[0;36m_modified_open\u001b[0;34m(file, *args, **kwargs)\u001b[0m\n\u001b[1;32m    279\u001b[0m \u001b[38;5;28;01mif\u001b[39;00m file \u001b[38;5;129;01min\u001b[39;00m {\u001b[38;5;241m0\u001b[39m, \u001b[38;5;241m1\u001b[39m, \u001b[38;5;241m2\u001b[39m}:\n\u001b[1;32m    280\u001b[0m     \u001b[38;5;28;01mraise\u001b[39;00m \u001b[38;5;167;01mValueError\u001b[39;00m(\n\u001b[1;32m    281\u001b[0m         \u001b[38;5;124mf\u001b[39m\u001b[38;5;124m\"\u001b[39m\u001b[38;5;124mIPython won\u001b[39m\u001b[38;5;124m'\u001b[39m\u001b[38;5;124mt let you open fd=\u001b[39m\u001b[38;5;132;01m{\u001b[39;00mfile\u001b[38;5;132;01m}\u001b[39;00m\u001b[38;5;124m by default \u001b[39m\u001b[38;5;124m\"\u001b[39m\n\u001b[1;32m    282\u001b[0m         \u001b[38;5;124m\"\u001b[39m\u001b[38;5;124mas it is likely to crash IPython. If you know what you are doing, \u001b[39m\u001b[38;5;124m\"\u001b[39m\n\u001b[1;32m    283\u001b[0m         \u001b[38;5;124m\"\u001b[39m\u001b[38;5;124myou can use builtins\u001b[39m\u001b[38;5;124m'\u001b[39m\u001b[38;5;124m open.\u001b[39m\u001b[38;5;124m\"\u001b[39m\n\u001b[1;32m    284\u001b[0m     )\n\u001b[0;32m--> 286\u001b[0m \u001b[38;5;28;01mreturn\u001b[39;00m \u001b[43mio_open\u001b[49m\u001b[43m(\u001b[49m\u001b[43mfile\u001b[49m\u001b[43m,\u001b[49m\u001b[43m \u001b[49m\u001b[38;5;241;43m*\u001b[39;49m\u001b[43margs\u001b[49m\u001b[43m,\u001b[49m\u001b[43m \u001b[49m\u001b[38;5;241;43m*\u001b[39;49m\u001b[38;5;241;43m*\u001b[39;49m\u001b[43mkwargs\u001b[49m\u001b[43m)\u001b[49m\n",
      "\u001b[0;31mFileNotFoundError\u001b[0m: [Errno 2] No such file or directory: 'path_to_your_positions.json'"
     ]
    }
   ],
   "source": [
    "from pyvis.network import Network\n",
    "import json\n",
    "\n",
    "org_nodes = df[\"Organisation\"].unique().tolist()\n",
    "mem_nodes = df[\"member\"].unique().tolist()\n",
    "\n",
    "# Get degrees for sizing\n",
    "degrees = dict(G.degree())\n",
    "\n",
    "# Initialize the network\n",
    "net = Network(notebook=True)\n",
    "\n",
    "# Load positions\n",
    "with open('graph_positions_final.json', 'r') as file:\n",
    "    positions = json.load(file)\n",
    "\n",
    "# Add nodes with specific colors and sizes\n",
    "for node, pos in positions.items():\n",
    "    color = \"blue\" if node in org_nodes else \"green\"\n",
    "    size = degrees[node]\n",
    "    net.add_node(node, x=pos['x'], y=pos['y'], color=color, size=size)\n",
    "\n",
    "# Add edges\n",
    "for edge in G.edges():\n",
    "    net.add_edge(*edge)"
   ]
  },
  {
   "cell_type": "code",
   "execution_count": null,
   "id": "4ba908a8",
   "metadata": {
    "jupyter": {
     "source_hidden": false
    }
   },
   "outputs": [],
   "source": [
    "\n"
   ]
  }
 ],
 "metadata": {
  "kernelspec": {
   "display_name": "Python 3 (ipykernel)",
   "language": "python",
   "name": "python3"
  },
  "language_info": {
   "codemirror_mode": {
    "name": "ipython",
    "version": 3
   },
   "file_extension": ".py",
   "mimetype": "text/x-python",
   "name": "python",
   "nbconvert_exporter": "python",
   "pygments_lexer": "ipython3",
   "version": "3.10.12"
  },
  "widgets": {
   "application/vnd.jupyter.widget-state+json": {
    "state": {},
    "version_major": 2,
    "version_minor": 0
   }
  }
 },
 "nbformat": 4,
 "nbformat_minor": 5
}
